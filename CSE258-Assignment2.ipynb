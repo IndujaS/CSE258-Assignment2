{
 "cells": [
  {
   "cell_type": "code",
   "execution_count": 7,
   "metadata": {
    "collapsed": true
   },
   "outputs": [],
   "source": [
    "import csv, copy\n",
    "from collections import defaultdict\n",
    "import numpy, re, math\n",
    "from sklearn.linear_model import Ridge, LinearRegression\n",
    "from textstat.textstat import textstat\n",
    "from string import punctuation\n",
    "from scipy import stats"
   ]
  },
  {
   "cell_type": "code",
   "execution_count": 30,
   "metadata": {
    "collapsed": false
   },
   "outputs": [],
   "source": [
    "# read data from csv file\n",
    "data = []\n",
    "with open(\"h1b_kaggle1.csv\", encoding='utf8') as csvfile:\n",
    "    csvreader = csv.reader(csvfile)\n",
    "    for line in csvreader:\n",
    "        data.append(line)"
   ]
  },
  {
   "cell_type": "code",
   "execution_count": 31,
   "metadata": {
    "collapsed": false
   },
   "outputs": [
    {
     "name": "stdout",
     "output_type": "stream",
     "text": [
      "3002459 ['', 'CASE_STATUS', 'EMPLOYER_NAME', 'SOC_NAME', 'JOB_TITLE', 'FULL_TIME_POSITION', 'PREVAILING_WAGE', 'YEAR', 'WORKSITE', 'lon', 'lat'] ['10', 'WITHDRAWN', 'LESSARD INTERNATIONAL LLC', 'CHIEF EXECUTIVES', 'PRESIDENT', 'Y', '154648', '2016', 'VIENNA, VIRGINIA', '-77.2652604', '38.9012225']\n"
     ]
    }
   ],
   "source": [
    "print(len(data), data[0], data[10])"
   ]
  },
  {
   "cell_type": "code",
   "execution_count": 37,
   "metadata": {
    "collapsed": false
   },
   "outputs": [
    {
     "name": "stdout",
     "output_type": "stream",
     "text": [
      "['10', 'WITHDRAWN', 'LESSARD INTERNATIONAL LLC', 'CHIEF EXECUTIVES', 'PRESIDENT', 'Y', '154648', '2016', 'VIENNA, VIRGINIA', '-77.2652604', '38.9012225']\n"
     ]
    }
   ],
   "source": [
    "print(data[10])"
   ]
  },
  {
   "cell_type": "code",
   "execution_count": 39,
   "metadata": {
    "collapsed": false
   },
   "outputs": [],
   "source": [
    "# getting statistics of data in terms of the features\n",
    "\n",
    "case_status = defaultdict(int)\n",
    "employer_name = defaultdict(int)\n",
    "soc_name = defaultdict(int)\n",
    "job_title = defaultdict(int)\n",
    "full_time = defaultdict(int)\n",
    "year = defaultdict(int)\n",
    "worksite = defaultdict(int)\n",
    "\n",
    "for d in data[1:]:\n",
    "    if d[0] == '':\n",
    "        continue\n",
    "    case_status[d[1]] += 1\n",
    "    employer_name[d[2]] += 1\n",
    "    soc_name[d[3]] += 1\n",
    "    #job_title[d[4]] += 1\n",
    "    full_time[d[5]] += 1\n",
    "    year[d[7]] += 1\n",
    "    #worksite[d[8]] += 1"
   ]
  },
  {
   "cell_type": "code",
   "execution_count": 41,
   "metadata": {
    "collapsed": false
   },
   "outputs": [
    {
     "name": "stdout",
     "output_type": "stream",
     "text": [
      "dict_values([76, 10, 370, 25, 96, 3, 12, 1, 1, 35, 11, 18, 74, 1, 6, 1, 86, 68, 68, 3, 1, 6, 784, 87, 513, 97, 1035, 1, 6, 2350, 1949, 1585, 223, 1, 27, 6, 7, 2, 124, 10, 4, 6, 164, 1047, 105, 3, 7, 7752, 2, 1, 39, 1576, 97, 1145, 26219, 1, 4, 1, 1, 11, 228, 3, 4, 20, 41, 70, 116, 3, 239, 246, 2, 1, 523, 4, 210, 111, 1, 930, 6, 1, 2, 10, 1, 8, 1, 1502, 2, 1, 2, 16, 2, 22, 1, 7, 3, 29, 81, 13, 1, 1509, 1, 2101, 1, 16, 695, 608, 197, 6, 10, 1289, 32, 62, 2, 914, 37, 30, 1, 4, 365, 71, 1, 45, 8, 11, 1, 143, 14, 479, 5, 2243, 14, 2463, 1, 4901, 307, 1, 1, 1, 1, 14, 4, 20, 4, 3, 1, 822, 1, 1, 423, 2, 342, 10, 1, 1, 67, 18, 34, 44, 421, 45, 1, 119, 21642, 3, 1, 1911, 3, 7032, 1, 2, 10, 1, 22, 47, 1, 11589, 20, 2, 9, 1, 5, 6, 12, 8, 2, 5, 6, 4050, 1, 1, 1, 7, 442, 122, 19, 1, 1, 5, 2, 126, 61, 1, 838, 1, 18, 3, 1, 60, 9, 2, 5, 1144, 1, 1, 394, 2, 24, 4, 469, 3, 1, 549, 1, 938, 1, 2, 1, 698, 388, 1, 17426, 1, 47, 3, 2, 1, 2970, 10, 5, 10, 1, 5380, 2, 1, 42, 13, 19, 35, 1, 199, 41, 223, 1, 14, 77, 1, 2527, 972, 142, 59, 111, 193, 17733, 1, 66, 218, 692, 2, 1, 851, 78, 1, 1, 626, 1, 5, 1593, 2, 277, 1, 1, 285, 1, 2, 171, 1, 1451, 2, 15, 2, 11, 13, 3, 11, 747, 735, 1, 3, 131, 65, 22, 171972, 1, 84, 155, 1, 295, 13251, 1, 2578, 2, 1, 28, 345, 62, 3, 2979, 24, 10, 4, 1, 3, 426, 226574, 1, 74, 10, 5, 9, 2, 605, 36, 3, 830, 2314, 22, 1, 17045, 1, 11, 6, 9, 3, 10, 4, 3, 73, 1, 16, 7917, 2333, 9, 3, 2, 861, 1, 25, 15, 1, 3, 5, 1, 8, 1, 1, 26, 95, 491, 5, 39356, 58, 1, 3, 1, 1, 833, 3, 17, 1, 14, 6, 113, 1018, 2, 5, 23, 111, 81, 1, 1, 2, 1, 6462, 475, 1, 48, 297, 32, 1, 4, 1, 2, 3, 2, 7, 11, 7, 108, 122, 1, 1, 1, 10, 14, 6, 3, 1531, 2, 63, 6649, 1981, 154, 508, 1, 5, 10, 3, 4, 6, 97, 82, 116, 1, 1, 68, 185, 3, 231, 215, 102, 894, 142, 294, 1, 2, 3756, 4, 21, 5, 2535, 165, 5048, 6, 2, 1, 703, 3, 7, 76, 1267, 1, 12, 4, 16, 1146, 9, 553, 56, 1, 1, 2, 1, 3, 44, 10, 22162, 121, 1, 2, 2, 160, 5648, 1, 4, 619, 41, 6, 1, 95, 1, 104, 27, 147, 2, 63, 15, 1, 84, 3, 294, 126, 3, 1, 2, 1537, 1, 37, 14, 2, 9, 1, 1, 43, 1, 6145, 109, 3, 3, 7, 9977, 130, 5, 43, 60, 169, 268, 45, 6, 1, 1, 10, 512, 6, 42, 2066, 3, 23, 1, 1, 8618, 1, 1, 2, 1, 2, 3, 4, 2, 14, 12, 138, 7, 51, 2, 77, 3, 8, 6, 19, 24, 2, 13, 3, 7, 1, 957, 34, 17, 907, 1, 1, 1, 10, 15, 147, 3, 74, 956, 25, 6, 1, 1, 10634, 1, 39, 44, 6, 836, 1, 12, 1, 2074, 140, 1, 2, 172, 3, 3, 1, 8037, 1, 2, 1, 2, 31, 18, 2510, 1, 2, 11, 478, 1, 1727, 61, 189, 5380, 4, 5, 394, 128, 1, 1, 391, 528, 1, 1, 586, 4, 13, 1, 2, 43, 57, 1, 13, 338, 709, 2, 2, 16, 6, 88, 1, 92, 502, 3, 1, 14, 1046, 1720, 7, 3, 24, 219, 9356, 1, 992, 3560, 805, 46, 184, 5, 674, 10, 8, 1, 70, 7, 13, 194, 6, 257, 243, 92, 160, 1, 4, 21, 2, 3, 11, 1, 96, 1, 349, 2004, 6, 1, 4, 10099, 1989, 1, 1, 2110, 9, 7, 14, 28, 3008, 1, 3932, 19, 1, 20, 1387, 12, 29, 4, 55, 398, 24, 2, 739, 155, 24, 635, 1, 26, 1, 7, 3, 6, 3, 2, 12, 22, 1, 10, 418, 2, 15, 22010, 2148, 31, 1, 1, 3, 1, 1629, 4477, 5, 16803, 1, 18, 8, 2, 1, 1, 2, 4371, 4, 3, 230, 658, 665, 125, 5, 4, 8, 96, 6, 5, 1175, 100, 224, 49, 1, 117, 1381, 5, 30708, 947, 581, 275, 173, 1, 6, 32, 5, 420, 4, 1, 4, 7, 879, 7, 2, 12323, 1, 3, 2126, 6, 2097, 3, 2, 1, 29, 22, 1, 99, 2, 422, 1, 292, 1, 1, 48, 5359, 32, 59, 1, 169, 2, 2, 13, 10, 1, 1, 7, 12, 1, 14, 1, 1, 1, 25, 635, 1, 56, 1, 19, 1, 5, 29, 8, 3, 27, 1, 1389, 2, 6, 2, 12, 86, 1, 2, 1, 132, 32, 10, 9, 33325, 1, 72, 18, 142, 3, 445, 472, 1, 14, 46, 5966, 1, 332, 44, 2, 1, 1, 21, 2153, 1, 1, 28, 1, 240, 1202, 33, 254, 74, 1, 65, 1, 2, 9, 4536, 107, 62, 3, 25, 1033, 14, 22, 162, 1, 159, 215353, 3953, 2, 8, 1120, 1473, 1, 2, 68, 4, 18445, 9, 213, 3206, 11946, 2, 1580, 1, 118, 1, 162, 9184, 150, 2, 10, 8, 1, 29, 2, 1711, 1, 291170, 54, 1, 95, 1, 17, 22158, 547, 2, 1, 2, 1, 1, 339, 3, 216, 143, 4, 949, 203, 234, 16, 34141, 1, 1, 1, 1, 287, 1, 1, 2, 1, 102, 7, 5, 1846, 3, 6, 7, 961, 385, 3, 1, 1571, 1, 432, 1, 291, 1, 15, 6, 2, 6, 492, 1, 88, 1, 56, 1, 1, 1, 9, 548, 2, 33, 10, 2181, 4303, 3, 323, 11, 1071, 826, 3190, 69, 9, 996, 22, 16, 1, 7, 1, 1, 7089, 25, 54, 431, 3, 1, 163, 2, 1, 169, 8, 40, 194, 202, 1, 1, 130, 6, 1, 14299, 23323, 237, 126, 1, 12, 2, 6, 4, 47, 1, 174, 35, 1, 8, 2, 21937, 7, 2, 276, 3724, 171, 84, 28, 2, 657, 8, 694, 3, 1, 65, 44500, 181, 2, 1, 4355, 1, 1, 4, 4, 1, 421, 14, 3, 2646, 15947, 439, 183, 484, 2, 237, 3, 1, 1, 2, 2, 2, 3, 3, 1, 3, 2, 27, 173, 98, 6, 192, 1, 12, 609, 2, 4, 2619, 1, 334, 1, 4, 413, 240, 1, 4, 1, 9, 1, 1, 9, 1, 3, 40, 6, 23, 202, 2, 1, 1, 6, 3, 8, 18, 1, 9, 1, 15, 1546, 1, 1, 8, 4, 1, 79, 9, 9, 1, 747, 4, 690, 15, 377, 1, 2, 18, 1114, 362, 2, 2, 1, 11, 2034, 448, 1109, 1, 227, 2, 5, 1, 2, 4468, 99, 21, 24, 2, 568, 3, 16, 827, 9, 119, 928, 12721, 2, 59, 97, 4, 975, 1389, 2, 42, 98, 222, 28117, 37, 29, 1, 13, 2, 1, 2, 1, 1, 38, 3, 12, 1, 2, 12, 17, 1, 133, 5, 72, 677, 2, 17, 48, 1, 75, 5, 156, 4, 1, 1, 3, 13, 2, 1331, 32, 298, 443, 5, 11, 1, 25, 1, 204, 126, 8, 6, 1, 1, 7, 4, 311, 2915, 1, 80, 7, 339, 1, 1, 287, 20, 4, 531, 49, 1, 7, 16, 2, 15, 5, 1, 1, 322, 8, 127, 3, 767, 15089, 12, 3, 1, 10, 71, 4, 2, 2, 4, 483, 422, 2, 315, 2706, 498, 1223, 137, 1, 1, 1626, 5, 3, 192933, 1, 567, 12, 5, 15579, 26, 2, 2, 25, 14, 1469, 1, 7, 1, 134, 11, 1, 5, 793, 2, 57, 23, 407, 4435, 47, 4, 1, 74, 20, 1, 181, 1, 138, 1, 238, 4, 1, 1, 17, 2, 297, 4, 1, 3, 1, 12, 4179, 56, 5, 1426, 1, 1, 167, 2, 1, 1255, 2, 1, 178, 2, 1, 25628, 5, 1, 9, 1, 3, 5, 6, 65, 36, 9, 351, 8, 335, 457, 1663, 7, 1, 94, 1556, 1, 27, 1, 1, 37, 32, 21, 241, 1, 13, 597, 38, 30, 5, 240, 795, 158, 3, 920, 1052, 2583, 17, 1, 3602, 133, 1030, 1, 11, 2588, 31, 358, 4, 1, 280, 9, 1, 218, 244, 1, 38756, 7, 1, 19, 2467, 1, 2, 3, 1, 1229, 85, 5, 1, 1, 208, 1092, 1512, 575, 1016, 3, 1, 1, 257, 70, 1, 175, 373, 4, 1, 123, 5, 152, 1, 20, 1, 20, 29, 1, 1, 123, 4, 193, 1, 96, 9, 17, 1590, 1, 1275, 4143, 1, 8, 2, 641, 1, 12, 57, 1, 4, 1, 1, 655, 63, 5, 294, 440, 74, 239, 23, 361, 3, 2, 77, 1, 1, 135, 50, 38, 448, 3, 13, 1, 409, 17, 1, 13, 6, 1, 1, 96, 1, 4, 1, 423, 1807, 1, 2, 155, 1, 2, 4413, 1763, 2, 132, 725, 7, 1, 1, 20, 36, 104, 16, 9, 22, 1885, 72, 1, 11, 1, 3, 1, 2085, 2970, 69315, 18017, 361, 3, 1, 199, 3, 7, 919, 3, 749, 88, 19171, 604, 73, 1, 1, 56, 50, 32, 6, 11, 459, 1, 1419, 270, 5, 161, 1, 1, 2599, 10, 19399, 4, 785, 6, 4, 1, 1, 162, 2, 146, 32, 3, 1, 1117, 2, 3765, 47, 1, 3, 8, 1, 15, 9, 10, 2, 808, 2, 3, 3, 2, 71, 2, 2, 1, 266, 10, 332, 1663, 1, 7, 1, 6, 283, 9224, 9, 10, 3, 4, 1, 50, 12, 1, 1, 248, 2, 2, 31, 1, 2128, 894, 4, 7, 116, 209, 13, 66, 24, 14, 1, 34, 45, 47, 1, 375, 5, 1, 12, 4, 1, 86, 2, 2169, 2, 1, 33, 1, 7, 2133, 5, 653, 4, 1242, 4, 92, 912, 278, 1, 573, 627, 389, 184, 3, 1, 2, 1884, 2210, 2, 2, 3, 643, 2, 626, 221783, 1, 1, 1, 1, 185, 1477, 27, 4, 55, 138, 1262, 1, 351, 18, 128, 38, 3903, 1, 1827, 163, 1, 1, 5, 1, 1, 1, 1, 6, 7, 18, 1, 1065, 1, 1, 1, 6946, 53, 97, 150, 2687, 535, 1, 1086, 119, 256, 4, 1, 2, 1, 16, 1, 12, 27, 3, 558, 1, 1, 1, 3, 1, 377, 36, 102, 1, 1, 2, 1, 1, 4, 6469, 426, 9, 3007, 18, 1, 249, 4, 54, 108555, 1, 11, 14, 126, 2, 20, 450, 5, 9, 28, 1, 1, 15, 1, 831, 61, 1075, 3, 96, 1, 248, 1, 5, 18, 1, 478, 2, 1, 2, 2, 156, 2, 1, 16, 1, 1, 1, 2, 1, 7356, 7, 5, 20, 5759, 8, 250, 93, 24, 2631, 54, 1, 2, 5, 1, 5993, 45, 63, 30, 11, 1, 5, 5676, 6, 154, 3, 2045, 79, 14721, 3, 32, 9, 1190, 12, 5, 2, 94, 7, 2474, 524, 4, 3, 255, 27, 2, 2592, 4, 59, 958, 2, 1, 20, 1, 55, 953, 4, 42, 410, 2, 79, 1, 126, 3, 6, 1, 1, 3007, 224, 1, 1046, 4, 1, 4, 2, 367, 1, 69, 66, 2, 3615, 75, 53, 11516, 3, 376, 1, 6592, 7, 17, 1, 2914, 26, 18, 1, 3, 203, 5577, 2, 9, 1, 1, 7, 5179, 16, 1, 3, 7, 1, 32, 600, 51, 2, 283, 1, 206, 2, 1, 45, 3536, 3, 1, 1185, 4532, 1, 2, 2, 1, 6, 1333, 598, 14, 1, 2, 2, 1, 2, 10, 8, 3, 4704, 34, 66, 7, 249, 3, 1922, 1, 1, 313, 12, 12, 48, 3, 7, 2, 2, 1, 389, 760, 1, 8, 27, 2, 3, 794, 1, 507, 6, 1864, 550, 1, 53, 9, 1, 2, 1, 6, 1, 1, 29, 1, 2, 3, 3, 1, 1175, 68, 1, 461, 47, 1, 10, 15, 1, 6, 3, 2, 40, 198, 129, 11, 1, 4, 16, 69, 2, 320, 15, 10, 1, 208, 204, 2, 90, 9, 623, 350, 300, 1, 2, 1, 7273, 26, 13, 546, 5, 9, 69, 1, 284, 3826, 9, 3, 1, 1, 85, 1, 1, 1, 43, 2, 62, 1, 1853, 7, 2, 9, 4, 2, 1, 3, 11, 70, 3, 926, 5506, 1, 3, 3192, 61, 1, 3, 7, 129, 100, 7, 3, 1, 1720, 3958, 2, 22114, 51, 17, 1, 1, 1, 3310, 2335, 436, 4, 2, 2, 1, 2, 1, 71, 57, 42, 429, 1, 11, 2, 5, 1, 1, 1, 669, 23, 1, 2917, 10, 2, 1, 1, 37, 11, 3799, 11, 28, 5, 4, 325, 41, 783, 13, 2, 149, 2, 1252, 120, 1, 13, 3, 30, 1620, 9905, 113, 7, 329, 2, 4, 101, 263, 26, 23, 2053, 7])\n"
     ]
    }
   ],
   "source": [
    "print(soc_name.values())"
   ]
  },
  {
   "cell_type": "code",
   "execution_count": 12,
   "metadata": {
    "collapsed": false
   },
   "outputs": [
    {
     "name": "stdout",
     "output_type": "stream",
     "text": [
      "WITHDRAWN\n",
      "INVALIDATED\n",
      "CERTIFIED\n",
      "CERTIFIED-WITHDRAWN\n",
      "PENDING QUALITY AND COMPLIANCE REVIEW - UNASSIGNED\n",
      "REJECTED\n",
      "DENIED\n",
      "NA\n"
     ]
    },
    {
     "data": {
      "text/plain": [
       "13"
      ]
     },
     "execution_count": 12,
     "metadata": {},
     "output_type": "execute_result"
    }
   ],
   "source": [
    "categories_case_status = ['CERTIFIED', 'WITHDRAWN', 'CERTIFIED-WITHDRAWN', 'DENIED']\n",
    "\n",
    "# remove outliers from dictionaries and maintain the new values in '_filt' notation\n",
    "\n",
    "case_status_filt = copy.deepcopy(case_status)\n",
    "#employer_name_filt = employer_name\n",
    "soc_name_filt = soc_name\n",
    "#job_title_filt = job_title\n",
    "full_time_filt = full_time\n",
    "year_filt = copy.deepcopy(year)\n",
    "#worksite_filt = copy.deepcopy(worksite)\n",
    "\n",
    "# only 4 classes to be retained\n",
    "for i in case_status.copy().keys():\n",
    "    print(i)\n",
    "    if i not in categories_case_status:\n",
    "        case_status_filt.pop(i)\n",
    "\n",
    "year_filt.pop('NA')\n",
    "#full_time_filt.pop('NA')"
   ]
  },
  {
   "cell_type": "code",
   "execution_count": 13,
   "metadata": {
    "collapsed": false
   },
   "outputs": [
    {
     "name": "stdout",
     "output_type": "stream",
     "text": [
      "defaultdict(<class 'int'>, {'WITHDRAWN': 89799, 'CERTIFIED': 2615623, 'CERTIFIED-WITHDRAWN': 202659, 'DENIED': 94346})\n",
      "defaultdict(<class 'int'>, {'2012': 415607, '2014': 519427, '2015': 618727, '2011': 358767, '2013': 442114, '2016': 647803})\n",
      "defaultdict(<class 'int'>, {'Y': 2576111, 'NA': 15, 'N': 426332})\n"
     ]
    }
   ],
   "source": [
    "print(case_status_filt)\n",
    "print(year_filt)\n",
    "print(full_time_filt)"
   ]
  },
  {
   "cell_type": "code",
   "execution_count": 14,
   "metadata": {
    "collapsed": false
   },
   "outputs": [],
   "source": [
    "# initialising global variables\n",
    "\n",
    "numSocNames = len(soc_name_filt.keys())\n",
    "numYears = len(year_filt.keys())\n",
    "numClasses = 4\n",
    "\n",
    "# to be used in 1-hot encoding of features (this is a mapping of each key of a feature to )\n",
    "class_id = dict(zip(case_status_filt, range(numClasses)))\n",
    "soc_name_id = dict(zip(soc_name_filt, range(numSocNames)))\n",
    "year_id = dict(zip(year_filt, range(numYears)))\n",
    "full_time_id = dict(zip(full_time_filt, range(2)))"
   ]
  },
  {
   "cell_type": "code",
   "execution_count": 15,
   "metadata": {
    "collapsed": true
   },
   "outputs": [],
   "source": [
    "# removing outliers and generating filtered data - more analysis needs to be done with this part!\n",
    "\n",
    "data_filt = []\n",
    "for d in data[1:]:\n",
    "    # remove if case status is not out of 4 classes\n",
    "    if d[1] not in categories_case_status or d[3] not in soc_name.keys() or \\\n",
    "        d[5] not in full_time.keys() or d[7] not in year.keys() or d[9] == 'NA' or \\\n",
    "        d[10] == 'NA' or d[6] == 'NA':\n",
    "        continue\n",
    "    data_filt.append(d)"
   ]
  },
  {
   "cell_type": "code",
   "execution_count": 16,
   "metadata": {
    "collapsed": true
   },
   "outputs": [],
   "source": [
    "numTrain = 2500000\n",
    "numTrain = 10000"
   ]
  },
  {
   "cell_type": "code",
   "execution_count": 17,
   "metadata": {
    "collapsed": false
   },
   "outputs": [],
   "source": [
    "def feature(d):\n",
    "    feat = [0]*(numSocNames+numYears)\n",
    "    #print(len(feat))\n",
    "    offset = 0\n",
    "    #print(offset+soc_name_id[d[3]])\n",
    "    feat[offset+soc_name_id[d[3]]] = 1   # soc_name\n",
    "    offset += numSocNames\n",
    "    #print(offset+year_id[d[7]])\n",
    "    feat[offset+year_id[d[7]]] = 1   # year\n",
    "    offset += numYears\n",
    "    feat.append(1 if d[5] == 'Y' else -1)   # full time\n",
    "    feat.append(float(d[6]))   # wage\n",
    "    feat.append(float(d[9]))   # latitude\n",
    "    feat.append(float(d[10]))  # longitude\n",
    "    feat.append(1) # bias\n",
    "    return feat\n",
    "#feature(data[10])"
   ]
  },
  {
   "cell_type": "code",
   "execution_count": 18,
   "metadata": {
    "collapsed": false
   },
   "outputs": [],
   "source": [
    "X_train = [feature(d) for d in data_filt[:numTrain]]\n",
    "y_train = [class_id[d[1]] for d in data_filt[:numTrain]]"
   ]
  },
  {
   "cell_type": "code",
   "execution_count": 19,
   "metadata": {
    "collapsed": true
   },
   "outputs": [],
   "source": [
    "# simple logistic regression, various models need to be looked at\n",
    "from sklearn import linear_model\n",
    "clf = linear_model.LogisticRegression()"
   ]
  },
  {
   "cell_type": "code",
   "execution_count": 20,
   "metadata": {
    "collapsed": false
   },
   "outputs": [
    {
     "data": {
      "text/plain": [
       "LogisticRegression(C=1.0, class_weight=None, dual=False, fit_intercept=True,\n",
       "          intercept_scaling=1, max_iter=100, multi_class='ovr', n_jobs=1,\n",
       "          penalty='l2', random_state=None, solver='liblinear', tol=0.0001,\n",
       "          verbose=0, warm_start=False)"
      ]
     },
     "execution_count": 20,
     "metadata": {},
     "output_type": "execute_result"
    }
   ],
   "source": [
    "clf.fit(X_train, y_train)"
   ]
  },
  {
   "cell_type": "code",
   "execution_count": 21,
   "metadata": {
    "collapsed": false
   },
   "outputs": [],
   "source": [
    "X_valid = [feature(d) for d in data_filt[-numTrain:]]\n",
    "y_valid = [class_id[d[1]] for d in data_filt[-numTrain:]]"
   ]
  },
  {
   "cell_type": "code",
   "execution_count": 22,
   "metadata": {
    "collapsed": false
   },
   "outputs": [],
   "source": [
    "y_pred = clf.predict(X_valid)"
   ]
  },
  {
   "cell_type": "code",
   "execution_count": 23,
   "metadata": {
    "collapsed": false
   },
   "outputs": [
    {
     "data": {
      "text/plain": [
       "0.45839999999999997"
      ]
     },
     "execution_count": 23,
     "metadata": {},
     "output_type": "execute_result"
    }
   ],
   "source": [
    "numpy.mean((y_pred-y_valid)**2)"
   ]
  },
  {
   "cell_type": "code",
   "execution_count": null,
   "metadata": {
    "collapsed": true
   },
   "outputs": [],
   "source": []
  }
 ],
 "metadata": {
  "anaconda-cloud": {},
  "kernelspec": {
   "display_name": "Python [conda root]",
   "language": "python",
   "name": "conda-root-py"
  },
  "language_info": {
   "codemirror_mode": {
    "name": "ipython",
    "version": 3
   },
   "file_extension": ".py",
   "mimetype": "text/x-python",
   "name": "python",
   "nbconvert_exporter": "python",
   "pygments_lexer": "ipython3",
   "version": "3.5.2"
  }
 },
 "nbformat": 4,
 "nbformat_minor": 1
}
